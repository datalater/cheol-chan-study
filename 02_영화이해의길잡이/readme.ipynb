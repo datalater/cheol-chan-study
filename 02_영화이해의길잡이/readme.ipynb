{
 "cells": [
  {
   "cell_type": "markdown",
   "metadata": {},
   "source": [
    "ⓒ JMC 2017\n",
    "\n",
    "**Email:** the7mincheol@gmail.com  \n",
    "**Github:** github.com/datalater  \n",
    "**Facebook:** fb.com/datalater  \n",
    "\n",
    "**Reference**  \n",
    "\\- 영화 이해의 길잡이, 정재형"
   ]
  },
  {
   "cell_type": "markdown",
   "metadata": {},
   "source": [
    "---"
   ]
  },
  {
   "cell_type": "markdown",
   "metadata": {},
   "source": [
    "# 1장 영화란 무엇인가"
   ]
  },
  {
   "cell_type": "markdown",
   "metadata": {},
   "source": [
    "## 주제1 : 영화 상식"
   ]
  },
  {
   "cell_type": "markdown",
   "metadata": {},
   "source": [
    "## (1) 영화를 부르는 명칭\n",
    "\n",
    "+ **프랑스:** cinema\n",
    "+ **독일:** kino\n",
    "+ **미국:** film\n",
    "+ **그 외:** 키네마(kinema), 모션 픽쳐(motion picture), 무비(movie) 등\n",
    "\n",
    "서구에서 영화를 뜻하는 단어는 모두 '움직인다'는 뜻을 공유하고 있다.\n",
    "시네마 혹은 키네마는 '활동적인'이란 뜻의 'kinetic'이, 무비 혹은 모션 픽쳐의 모션(motion)은 '움직이다'라는 뜻의 'move'가 변형된 것이다.\n",
    "어원이 의미하는 대로 서구에서는 영화를 '활동적인 것'으로 파악한다."
   ]
  },
  {
   "cell_type": "markdown",
   "metadata": {},
   "source": [
    "## (2) 동양에서 영화를 부르는 명칭\n",
    "\n",
    "+ **중국:** 전영(電影)\n",
    "+ **일본:** 영화(映畵)\n",
    "\n",
    "중국의 전영은 전기를 의미하는 전과 그림자 영, 즉 '전기로 나타난 그림자'란 뜻이다.\n",
    "중국에선 영화를 그림자와 연관시켜 본 이유는 중국의 전통 민간예술 가운데 '그림자 놀이'인 '영희극'에서 따왔기 때문이다.\n",
    "'영화'는 비출 영, 그림 화, 즉 '비춰진 그림'이란 뜻이다.\n",
    "영화는 '그림'이라는 기존 예술 형태와의 유사성을 염두에 두고 이름이 붙여졌다.\n",
    "정리하면, 각 나라마다 그 나라의 사고방식과 민족성에 따라 명칭이 사용되고 있다.\n",
    "우리나라에서 영화는 일제시대에 영화를 받아들이면서 일본식 단어를 그냥 차용하게 되었다."
   ]
  },
  {
   "cell_type": "markdown",
   "metadata": {},
   "source": [
    "## (3) 익숙해져서 간과할 수 있는 부분\n",
    "\n",
    "사실주의 그림을 보다가 피카소의 그림을 보면 이게 무슨 그림이냐, 미취학 아동의 수준이 아니냐고 비판할 수 있다.\n",
    "그러나 이는 작품의 맥락과 의도를 간과한 비판이다.\n",
    "\n",
    "먼저 영화가 탄생한 곳도 서구이고, 현재 영화 시장을 주도해 온 것도 서구 영화이기 때문에 우리는 서구 영화에 익숙해져있다.\n",
    "서구영화는 명칭에서 볼 수 있듯이 영화를 '활동적인 것'으로 파악하기 때문에 영화마다 '활동적임'이 잘 드러나 있을 것이다.\n",
    "반면, 동양 영화의 경우 그 고유의 정신이 고요하고 그윽하며, 깊은 내면의 세계를 강조한다.\n",
    "감독이 의도한 바가 기존에 익숙한 것과 다르다면, 관객은 다른 프레임으로 볼 필요가 있다.\n",
    "가장 알아차리기 쉬운 프레임 중 하나가 시각적인 영화 기법이다."
   ]
  },
  {
   "cell_type": "markdown",
   "metadata": {},
   "source": [
    "## (4) 영화 기법에서 정신세계가 표현된다"
   ]
  },
  {
   "cell_type": "markdown",
   "metadata": {},
   "source": [
    "다수의 한국 영화들을 포함해서 인도, 이란, 일본, 대만, 홍콩 등 훌륭한 동양 영화들이 각 나라의 사고방식을 주체적으로 드러내는 방법은 서구 영화감독들이 흔히 사용하지 않는 기법을 사용하는 것이다.\n",
    "배용균 감독의 `<달마가 동쪽으로 간 까닭은 (1989)>`에서는 자연친화적인 영상미와 느리고 절제된 우리의 리듬감을 영화적으로 표현함으로써 동양적 정신세계의 깊고 그윽함을 잘 보여주고 있다.\n",
    "그러니까 앞으로 영화를 볼 때는 스토리뿐 아니라 영상미와 리듬감을 느껴보려고 한다면, 영화를 더 즐겁게 볼 수 있을 것이다."
   ]
  },
  {
   "cell_type": "markdown",
   "metadata": {},
   "source": [
    "---"
   ]
  },
  {
   "cell_type": "markdown",
   "metadata": {},
   "source": [
    "## 2. 영화가 관객에게 닿기 위한 3단계 과정"
   ]
  },
  {
   "cell_type": "code",
   "execution_count": null,
   "metadata": {
    "collapsed": true
   },
   "outputs": [],
   "source": []
  }
 ],
 "metadata": {
  "kernelspec": {
   "display_name": "Python 3",
   "language": "python",
   "name": "python3"
  },
  "language_info": {
   "codemirror_mode": {
    "name": "ipython",
    "version": 3
   },
   "file_extension": ".py",
   "mimetype": "text/x-python",
   "name": "python",
   "nbconvert_exporter": "python",
   "pygments_lexer": "ipython3",
   "version": "3.5.3"
  }
 },
 "nbformat": 4,
 "nbformat_minor": 2
}
